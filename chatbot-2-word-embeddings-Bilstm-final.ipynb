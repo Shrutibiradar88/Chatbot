{
 "cells": [
  {
   "cell_type": "code",
   "execution_count": null,
   "metadata": {
    "collapsed": true
   },
   "outputs": [],
   "source": [
    "!pip3 install tensorflow-gpu"
   ]
  },
  {
   "cell_type": "code",
   "execution_count": null,
   "metadata": {
    "collapsed": true
   },
   "outputs": [],
   "source": []
  },
  {
   "cell_type": "code",
   "execution_count": 177,
   "metadata": {
    "collapsed": true,
    "scrolled": true
   },
   "outputs": [],
   "source": [
    "from tensorflow.python.client import device_lib"
   ]
  },
  {
   "cell_type": "code",
   "execution_count": 1,
   "metadata": {},
   "outputs": [
    {
     "name": "stderr",
     "output_type": "stream",
     "text": [
      "Using TensorFlow backend.\n",
      "/home/shiva_sync/.local/lib/python3.5/site-packages/tensorflow/python/framework/dtypes.py:516: FutureWarning: Passing (type, 1) or '1type' as a synonym of type is deprecated; in a future version of numpy, it will be understood as (type, (1,)) / '(1,)type'.\n",
      "  _np_qint8 = np.dtype([(\"qint8\", np.int8, 1)])\n",
      "/home/shiva_sync/.local/lib/python3.5/site-packages/tensorflow/python/framework/dtypes.py:517: FutureWarning: Passing (type, 1) or '1type' as a synonym of type is deprecated; in a future version of numpy, it will be understood as (type, (1,)) / '(1,)type'.\n",
      "  _np_quint8 = np.dtype([(\"quint8\", np.uint8, 1)])\n",
      "/home/shiva_sync/.local/lib/python3.5/site-packages/tensorflow/python/framework/dtypes.py:518: FutureWarning: Passing (type, 1) or '1type' as a synonym of type is deprecated; in a future version of numpy, it will be understood as (type, (1,)) / '(1,)type'.\n",
      "  _np_qint16 = np.dtype([(\"qint16\", np.int16, 1)])\n",
      "/home/shiva_sync/.local/lib/python3.5/site-packages/tensorflow/python/framework/dtypes.py:519: FutureWarning: Passing (type, 1) or '1type' as a synonym of type is deprecated; in a future version of numpy, it will be understood as (type, (1,)) / '(1,)type'.\n",
      "  _np_quint16 = np.dtype([(\"quint16\", np.uint16, 1)])\n",
      "/home/shiva_sync/.local/lib/python3.5/site-packages/tensorflow/python/framework/dtypes.py:520: FutureWarning: Passing (type, 1) or '1type' as a synonym of type is deprecated; in a future version of numpy, it will be understood as (type, (1,)) / '(1,)type'.\n",
      "  _np_qint32 = np.dtype([(\"qint32\", np.int32, 1)])\n",
      "/home/shiva_sync/.local/lib/python3.5/site-packages/tensorflow/python/framework/dtypes.py:525: FutureWarning: Passing (type, 1) or '1type' as a synonym of type is deprecated; in a future version of numpy, it will be understood as (type, (1,)) / '(1,)type'.\n",
      "  np_resource = np.dtype([(\"resource\", np.ubyte, 1)])\n",
      "/home/shiva_sync/.local/lib/python3.5/site-packages/tensorboard/compat/tensorflow_stub/dtypes.py:541: FutureWarning: Passing (type, 1) or '1type' as a synonym of type is deprecated; in a future version of numpy, it will be understood as (type, (1,)) / '(1,)type'.\n",
      "  _np_qint8 = np.dtype([(\"qint8\", np.int8, 1)])\n",
      "/home/shiva_sync/.local/lib/python3.5/site-packages/tensorboard/compat/tensorflow_stub/dtypes.py:542: FutureWarning: Passing (type, 1) or '1type' as a synonym of type is deprecated; in a future version of numpy, it will be understood as (type, (1,)) / '(1,)type'.\n",
      "  _np_quint8 = np.dtype([(\"quint8\", np.uint8, 1)])\n",
      "/home/shiva_sync/.local/lib/python3.5/site-packages/tensorboard/compat/tensorflow_stub/dtypes.py:543: FutureWarning: Passing (type, 1) or '1type' as a synonym of type is deprecated; in a future version of numpy, it will be understood as (type, (1,)) / '(1,)type'.\n",
      "  _np_qint16 = np.dtype([(\"qint16\", np.int16, 1)])\n",
      "/home/shiva_sync/.local/lib/python3.5/site-packages/tensorboard/compat/tensorflow_stub/dtypes.py:544: FutureWarning: Passing (type, 1) or '1type' as a synonym of type is deprecated; in a future version of numpy, it will be understood as (type, (1,)) / '(1,)type'.\n",
      "  _np_quint16 = np.dtype([(\"quint16\", np.uint16, 1)])\n",
      "/home/shiva_sync/.local/lib/python3.5/site-packages/tensorboard/compat/tensorflow_stub/dtypes.py:545: FutureWarning: Passing (type, 1) or '1type' as a synonym of type is deprecated; in a future version of numpy, it will be understood as (type, (1,)) / '(1,)type'.\n",
      "  _np_qint32 = np.dtype([(\"qint32\", np.int32, 1)])\n",
      "/home/shiva_sync/.local/lib/python3.5/site-packages/tensorboard/compat/tensorflow_stub/dtypes.py:550: FutureWarning: Passing (type, 1) or '1type' as a synonym of type is deprecated; in a future version of numpy, it will be understood as (type, (1,)) / '(1,)type'.\n",
      "  np_resource = np.dtype([(\"resource\", np.ubyte, 1)])\n"
     ]
    },
    {
     "data": {
      "text/plain": [
       "[]"
      ]
     },
     "execution_count": 1,
     "metadata": {},
     "output_type": "execute_result"
    }
   ],
   "source": [
    "from keras import backend as K\n",
    "K.tensorflow_backend._get_available_gpus()"
   ]
  },
  {
   "cell_type": "code",
   "execution_count": 3,
   "metadata": {},
   "outputs": [
    {
     "name": "stdout",
     "output_type": "stream",
     "text": [
      "[name: \"/device:CPU:0\"\n",
      "device_type: \"CPU\"\n",
      "memory_limit: 268435456\n",
      "locality {\n",
      "}\n",
      "incarnation: 6080954016251786921\n",
      ", name: \"/device:XLA_GPU:0\"\n",
      "device_type: \"XLA_GPU\"\n",
      "memory_limit: 17179869184\n",
      "locality {\n",
      "}\n",
      "incarnation: 5078124165175639530\n",
      "physical_device_desc: \"device: XLA_GPU device\"\n",
      ", name: \"/device:XLA_CPU:0\"\n",
      "device_type: \"XLA_CPU\"\n",
      "memory_limit: 17179869184\n",
      "locality {\n",
      "}\n",
      "incarnation: 16181178921913356226\n",
      "physical_device_desc: \"device: XLA_CPU device\"\n",
      "]\n"
     ]
    }
   ],
   "source": [
    "print(device_lib.list_local_devices())"
   ]
  },
  {
   "cell_type": "code",
   "execution_count": 2,
   "metadata": {
    "collapsed": true
   },
   "outputs": [],
   "source": [
    "import keras\n",
    "import tensorflow as tf\n",
    "config = tf.ConfigProto( device_count = {'GPU': 1 , 'CPU': 56} ) \n",
    "sess = tf.Session(config=config) \n",
    "keras.backend.set_session(sess)"
   ]
  },
  {
   "cell_type": "code",
   "execution_count": 3,
   "metadata": {},
   "outputs": [
    {
     "name": "stdout",
     "output_type": "stream",
     "text": [
      "1.14.0\n",
      "VOCAB SIZE : 7154\n"
     ]
    }
   ],
   "source": [
    "import numpy as np\n",
    "import tensorflow as tf\n",
    "import pickle\n",
    "from tensorflow.keras import layers , activations , models , preprocessing\n",
    "\n",
    "print( tf.VERSION )\n",
    "\n",
    "import json\n",
    "import gzip\n",
    "\n",
    "\n",
    "filename = 'qa_Electronics.json.gz'  # Sample file.\n",
    "questions=[]\n",
    "answers=[]\n",
    "i=0\n",
    "with gzip.open(filename , 'rb') as gzip_file:\n",
    "    for line in gzip_file:  # Read one line.\n",
    "        i+=1\n",
    "        l=eval(line)\n",
    "        questions.append(l['question'])\n",
    "        answers.append( '<START> ' + l['answer'] + ' <END>' )\n",
    "        if i==10000:\n",
    "            break\n",
    "       \n",
    "        \n",
    "\n",
    "tokenizer = preprocessing.text.Tokenizer(filters='!\"#$%&()*+,-./:;<=>?@[\\\\]^_`{|}~\\t\\n', lower=True,)\n",
    "tokenizer.fit_on_texts( questions + answers )\n",
    "count_thres = 3\n",
    "low_count_words = [w for w,c in tokenizer.word_counts.items() if c < count_thres]\n",
    "\n",
    "for w in low_count_words:\n",
    "    del tokenizer.word_index[w]\n",
    "    del tokenizer.word_docs[w]\n",
    "    del tokenizer.word_counts[w]\n",
    "\n",
    "VOCAB_SIZE = len( tokenizer.word_index )+1\n",
    "print( 'VOCAB SIZE : {}'.format( VOCAB_SIZE ))  "
   ]
  },
  {
   "cell_type": "code",
   "execution_count": 4,
   "metadata": {},
   "outputs": [
    {
     "name": "stdout",
     "output_type": "stream",
     "text": [
      "Found 400000 word vectors.\n"
     ]
    }
   ],
   "source": [
    "import os\n",
    "embeddings_index = {}\n",
    "f = open(os.path.join('glove.6B.200d.txt'))\n",
    "for line in f:\n",
    "    values = line.split()\n",
    "    word = values[0]\n",
    "    coefs = np.asarray(values[1:], dtype='float32')\n",
    "    embeddings_index[word] = coefs\n",
    "f.close()\n",
    "\n",
    "print('Found %s word vectors.' % len(embeddings_index))"
   ]
  },
  {
   "cell_type": "code",
   "execution_count": 5,
   "metadata": {},
   "outputs": [
    {
     "name": "stdout",
     "output_type": "stream",
     "text": [
      "Found 7153 unique tokens.\n",
      "7154\n"
     ]
    }
   ],
   "source": [
    "max_features = 20000\n",
    "word_index = tokenizer.word_index\n",
    "print('Found %s unique tokens.' % len(word_index))\n",
    "num_words = min(max_features, len(word_index)) + 1\n",
    "print(num_words)\n",
    "\n",
    "embedding_dim = 200\n",
    "\n",
    "# first create a matrix of zeros, this is our embedding matrix\n",
    "embedding_matrix = np.zeros((num_words, embedding_dim))\n",
    "\n",
    "# for each word in out tokenizer lets try to find that work in our w2v model\n",
    "for word, i in word_index.items():\n",
    "    if i > max_features:\n",
    "        continue\n",
    "    embedding_vector = embeddings_index.get(word)\n",
    "    if embedding_vector is not None:\n",
    "        # we found the word - add that words vector to the matrix\n",
    "        embedding_matrix[i] = embedding_vector\n",
    "    else:\n",
    "        # doesn't exist, assign a random vector\n",
    "        embedding_matrix[i] = np.random.randn(embedding_dim)"
   ]
  },
  {
   "cell_type": "code",
   "execution_count": null,
   "metadata": {
    "collapsed": true
   },
   "outputs": [],
   "source": [
    "questions[1]"
   ]
  },
  {
   "cell_type": "code",
   "execution_count": 17,
   "metadata": {
    "collapsed": true
   },
   "outputs": [],
   "source": [
    "tokenized_questions = tokenizer.texts_to_sequences( questions )"
   ]
  },
  {
   "cell_type": "code",
   "execution_count": 19,
   "metadata": {},
   "outputs": [
    {
     "data": {
      "text/plain": [
       "10000"
      ]
     },
     "execution_count": 19,
     "metadata": {},
     "output_type": "execute_result"
    }
   ],
   "source": [
    "len(tokenized_questions)"
   ]
  },
  {
   "cell_type": "code",
   "execution_count": 6,
   "metadata": {},
   "outputs": [
    {
     "name": "stdout",
     "output_type": "stream",
     "text": [
      "(10000, 20) 20\n",
      "(10000, 20) 20\n",
      "(10000, 20, 7154)\n"
     ]
    }
   ],
   "source": [
    "from tensorflow.keras import preprocessing , utils\n",
    "\n",
    "import os\n",
    "import yaml\n",
    "import numpy as np\n",
    "# encoder_input_data\n",
    "tokenized_questions = tokenizer.texts_to_sequences( questions )\n",
    "maxlen_questions = 20\n",
    "padded_questions = preprocessing.sequence.pad_sequences( tokenized_questions , maxlen=maxlen_questions , padding='post' )\n",
    "encoder_input_data = np.array( padded_questions )\n",
    "print( encoder_input_data.shape , maxlen_questions )\n",
    "\n",
    "# decoder_input_data\n",
    "tokenized_answers = tokenizer.texts_to_sequences( answers )\n",
    "maxlen_answers = 20\n",
    "padded_answers = preprocessing.sequence.pad_sequences( tokenized_answers , maxlen=maxlen_answers , padding='post' )\n",
    "decoder_input_data = np.array( padded_answers )\n",
    "print( decoder_input_data.shape , maxlen_answers )\n",
    "\n",
    "# decoder_output_data\n",
    "tokenized_answers = tokenizer.texts_to_sequences( answers )\n",
    "for i in range(len(tokenized_answers)) :\n",
    "    tokenized_answers[i] = tokenized_answers[i][1:]\n",
    "padded_answers = preprocessing.sequence.pad_sequences( tokenized_answers , maxlen=maxlen_answers , padding='post' )\n",
    "onehot_answers = utils.to_categorical( padded_answers , VOCAB_SIZE )\n",
    "decoder_output_data = np.array( onehot_answers )\n",
    "print( decoder_output_data.shape )"
   ]
  },
  {
   "cell_type": "code",
   "execution_count": 8,
   "metadata": {},
   "outputs": [
    {
     "name": "stdout",
     "output_type": "stream",
     "text": [
      "Model: \"model_2\"\n",
      "__________________________________________________________________________________________________\n",
      "Layer (type)                    Output Shape         Param #     Connected to                     \n",
      "==================================================================================================\n",
      "input_3 (InputLayer)            (None, None)         0                                            \n",
      "__________________________________________________________________________________________________\n",
      "embedding_3 (Embedding)         (None, None, 200)    1430800     input_3[0][0]                    \n",
      "__________________________________________________________________________________________________\n",
      "input_4 (InputLayer)            (None, None)         0                                            \n",
      "__________________________________________________________________________________________________\n",
      "bidirectional_2 (Bidirectional) [(None, None, 400),  641600      embedding_3[0][0]                \n",
      "__________________________________________________________________________________________________\n",
      "embedding_4 (Embedding)         (None, None, 200)    1430800     input_4[0][0]                    \n",
      "__________________________________________________________________________________________________\n",
      "concatenate_3 (Concatenate)     (None, 400)          0           bidirectional_2[0][1]            \n",
      "                                                                 bidirectional_2[0][3]            \n",
      "__________________________________________________________________________________________________\n",
      "concatenate_4 (Concatenate)     (None, 400)          0           bidirectional_2[0][2]            \n",
      "                                                                 bidirectional_2[0][4]            \n",
      "__________________________________________________________________________________________________\n",
      "lstm_4 (LSTM)                   [(None, None, 400),  961600      embedding_4[0][0]                \n",
      "                                                                 concatenate_3[0][0]              \n",
      "                                                                 concatenate_4[0][0]              \n",
      "__________________________________________________________________________________________________\n",
      "dense_2 (Dense)                 (None, None, 7154)   2868754     lstm_4[0][0]                     \n",
      "==================================================================================================\n",
      "Total params: 7,333,554\n",
      "Trainable params: 7,333,554\n",
      "Non-trainable params: 0\n",
      "__________________________________________________________________________________________________\n"
     ]
    }
   ],
   "source": [
    "import keras\n",
    "from keras.layers import Dense, Dropout, Embedding, LSTM, Bidirectional,Concatenate,Input\n",
    "from keras.initializers import Constant\n",
    "from keras.models import Model\n",
    "encoder_inputs = Input(shape=( None , ))\n",
    "encoder_embedding = Embedding( VOCAB_SIZE, 200 ,embeddings_initializer=Constant(embedding_matrix), mask_zero=True ) (encoder_inputs)\n",
    "#encoder_outputs , state_h , state_c = LSTM( 200 , return_state=True )( encoder_embedding )\n",
    "\n",
    "encoder = Bidirectional(LSTM(200, return_state=True,return_sequences=True))\n",
    "encoder_outputs, forward_h, forward_c, backward_h, backward_c = encoder(encoder_embedding)\n",
    "#encoder_outputs, forward_h, forward_c, backward_h, backward_c=Bidirectional(LSTM( 200 , return_state=True ))( encoder_embedding )\n",
    "\n",
    "state_h = Concatenate()([forward_h, backward_h])\n",
    "state_c = Concatenate()([forward_c, backward_c])\n",
    "encoder_states = [state_h, state_c]\n",
    "\n",
    "\n",
    "\n",
    "decoder_inputs = Input(shape=(None, ))\n",
    "decoder_embedding = Embedding( VOCAB_SIZE, 200 ,embeddings_initializer=Constant(embedding_matrix) ,mask_zero=True) (decoder_inputs)\n",
    "\n",
    "decoder_lstm = LSTM( 400 , return_state=True , return_sequences=True )\n",
    "decoder_outputs , _ , _ = decoder_lstm ( decoder_embedding , initial_state=encoder_states )\n",
    "decoder_dense =Dense( VOCAB_SIZE , activation=keras.activations.softmax ) \n",
    "output = decoder_dense ( decoder_outputs )\n",
    "\n",
    "model = Model([encoder_inputs, decoder_inputs], output )\n",
    "model.compile(optimizer=keras.optimizers.RMSprop(), loss='categorical_crossentropy')\n",
    "\n",
    "model.summary()"
   ]
  },
  {
   "cell_type": "code",
   "execution_count": 9,
   "metadata": {},
   "outputs": [
    {
     "name": "stdout",
     "output_type": "stream",
     "text": [
      "WARNING:tensorflow:From /home/shiva_sync/anaconda3/lib/python3.5/site-packages/keras/backend/tensorflow_backend.py:422: The name tf.global_variables is deprecated. Please use tf.compat.v1.global_variables instead.\n",
      "\n",
      "Epoch 1/15\n",
      "10000/10000 [==============================] - 137s 14ms/step - loss: 3.7066\n",
      "Epoch 2/15\n",
      "10000/10000 [==============================] - 136s 14ms/step - loss: 2.0040\n",
      "Epoch 3/15\n",
      "10000/10000 [==============================] - 135s 14ms/step - loss: 1.4816\n",
      "Epoch 4/15\n",
      "10000/10000 [==============================] - 134s 13ms/step - loss: 1.2633\n",
      "Epoch 5/15\n",
      "10000/10000 [==============================] - 135s 13ms/step - loss: 1.1343\n",
      "Epoch 6/15\n",
      "10000/10000 [==============================] - 135s 13ms/step - loss: 1.0391\n",
      "Epoch 7/15\n",
      "10000/10000 [==============================] - 133s 13ms/step - loss: 0.9630\n",
      "Epoch 8/15\n",
      "10000/10000 [==============================] - 133s 13ms/step - loss: 0.8899\n",
      "Epoch 9/15\n",
      "10000/10000 [==============================] - 132s 13ms/step - loss: 0.8220\n",
      "Epoch 10/15\n",
      "10000/10000 [==============================] - 132s 13ms/step - loss: 0.7580\n",
      "Epoch 11/15\n",
      "10000/10000 [==============================] - 131s 13ms/step - loss: 0.6956\n",
      "Epoch 12/15\n",
      "10000/10000 [==============================] - 131s 13ms/step - loss: 0.6367\n",
      "Epoch 13/15\n",
      "10000/10000 [==============================] - 133s 13ms/step - loss: 0.5802\n",
      "Epoch 14/15\n",
      "10000/10000 [==============================] - 130s 13ms/step - loss: 0.5232\n",
      "Epoch 15/15\n",
      "10000/10000 [==============================] - 134s 13ms/step - loss: 0.4709\n"
     ]
    },
    {
     "data": {
      "text/plain": [
       "<keras.callbacks.callbacks.History at 0x7f79399200b8>"
      ]
     },
     "execution_count": 9,
     "metadata": {},
     "output_type": "execute_result"
    }
   ],
   "source": [
    "model.fit([encoder_input_data , decoder_input_data], decoder_output_data, batch_size=50, epochs=15 ) "
   ]
  },
  {
   "cell_type": "code",
   "execution_count": 11,
   "metadata": {
    "collapsed": true
   },
   "outputs": [],
   "source": [
    "model.save( 'model-sequence-embedding-bidirectional.h5' ) "
   ]
  },
  {
   "cell_type": "code",
   "execution_count": 185,
   "metadata": {
    "collapsed": true
   },
   "outputs": [],
   "source": [
    "import tensorflow as tf \n",
    "model = tf.keras.models.load_model('model-sequence-embedding-bidirectional.h5')"
   ]
  },
  {
   "cell_type": "code",
   "execution_count": 81,
   "metadata": {},
   "outputs": [
    {
     "data": {
      "text/plain": [
       "<tf.Tensor 'mul_11:0' shape=(7154, 200) dtype=float32>"
      ]
     },
     "execution_count": 81,
     "metadata": {},
     "output_type": "execute_result"
    }
   ],
   "source": [
    "model.layers[1].embeddings*model.input[0]"
   ]
  },
  {
   "cell_type": "code",
   "execution_count": 104,
   "metadata": {},
   "outputs": [
    {
     "data": {
      "text/plain": [
       "[<tf.Tensor 'embedding_2_3/embedding_lookup/Identity_1:0' shape=(?, ?, 200) dtype=float32>,\n",
       " <tf.Tensor 'concatenate_1_8/concat:0' shape=(?, 400) dtype=float32>,\n",
       " <tf.Tensor 'concatenate_2_8/concat:0' shape=(?, 400) dtype=float32>]"
      ]
     },
     "execution_count": 104,
     "metadata": {},
     "output_type": "execute_result"
    }
   ],
   "source": [
    "model.layers[7].input"
   ]
  },
  {
   "cell_type": "code",
   "execution_count": 121,
   "metadata": {},
   "outputs": [
    {
     "data": {
      "text/plain": [
       "[<tensorflow.python.keras.engine.input_layer.InputLayer at 0x7feb72801eb8>,\n",
       " <tensorflow.python.keras.layers.embeddings.Embedding at 0x7feb7280f0b8>,\n",
       " <tensorflow.python.keras.engine.input_layer.InputLayer at 0x7feb7280feb8>,\n",
       " <tensorflow.python.keras.layers.wrappers.Bidirectional at 0x7feb72801e80>,\n",
       " <tensorflow.python.keras.layers.embeddings.Embedding at 0x7feb728fea20>,\n",
       " <tensorflow.python.keras.layers.merge.Concatenate at 0x7feb728fe208>,\n",
       " <tensorflow.python.keras.layers.merge.Concatenate at 0x7feb728fe4a8>,\n",
       " <tensorflow.python.keras.layers.recurrent.LSTM at 0x7feb728fe710>,\n",
       " <tensorflow.python.keras.layers.core.Dense at 0x7feb727f44e0>]"
      ]
     },
     "execution_count": 121,
     "metadata": {},
     "output_type": "execute_result"
    }
   ],
   "source": [
    "model.layers"
   ]
  },
  {
   "cell_type": "code",
   "execution_count": 194,
   "metadata": {},
   "outputs": [
    {
     "data": {
      "text/plain": [
       "[<tensorflow.python.keras.engine.input_layer.InputLayer at 0x7feb69117c88>,\n",
       " <tensorflow.python.keras.layers.embeddings.Embedding at 0x7fec2f847c18>,\n",
       " <tensorflow.python.keras.engine.input_layer.InputLayer at 0x7feb6918a198>,\n",
       " <tensorflow.python.keras.layers.wrappers.Bidirectional at 0x7feb69117c50>,\n",
       " <tensorflow.python.keras.layers.embeddings.Embedding at 0x7fec2f90bef0>,\n",
       " <tensorflow.python.keras.layers.merge.Concatenate at 0x7fec2f90b3c8>,\n",
       " <tensorflow.python.keras.layers.merge.Concatenate at 0x7fec2f90bf60>,\n",
       " <tensorflow.python.keras.layers.recurrent.LSTM at 0x7fec2f90bd68>,\n",
       " <tensorflow.python.keras.layers.core.Dense at 0x7fec2f8c0780>]"
      ]
     },
     "execution_count": 194,
     "metadata": {},
     "output_type": "execute_result"
    }
   ],
   "source": [
    "model.layers"
   ]
  },
  {
   "cell_type": "code",
   "execution_count": 133,
   "metadata": {},
   "outputs": [
    {
     "data": {
      "text/plain": [
       "[<tf.Tensor 'lstm_2_25/transpose_2:0' shape=(?, ?, 400) dtype=float32>,\n",
       " <tf.Tensor 'lstm_2_25/while/Exit_3:0' shape=(?, 400) dtype=float32>,\n",
       " <tf.Tensor 'lstm_2_25/while/Exit_4:0' shape=(?, 400) dtype=float32>]"
      ]
     },
     "execution_count": 133,
     "metadata": {},
     "output_type": "execute_result"
    }
   ],
   "source": [
    "decoder_state_input_h = Input(shape=( 400 ,))\n",
    "decoder_state_input_c = Input(shape=( 400 ,))\n",
    "decoder_states_inputs = [decoder_state_input_h, decoder_state_input_c] \n",
    "decoder_lstm ( model.layers[7].input[0],initial_state=encoder_states )\n",
    " "
   ]
  },
  {
   "cell_type": "code",
   "execution_count": 247,
   "metadata": {
    "collapsed": true
   },
   "outputs": [],
   "source": [
    "from keras.layers import Concatenate,Input\n",
    "from keras.models import Model\n",
    "encoder_inputs = model.input[0]\n",
    "encoder_embeddings=model.layers[1]\n",
    "\n",
    "\n",
    "\n",
    "encoder_outputs, forward_h, forward_c, backward_h, backward_c=model.layers[3].output \n",
    "# state_h = [forward_h, backward_h]\n",
    "# state_c = [forward_c, backward_c]\n",
    "\n",
    "#encoder_embedding = Embedding( VOCAB_SIZE, 200 ,embeddings_initializer=Constant(embedding_matrix), mask_zero=True )\n",
    "state_h=model.layers[5].output\n",
    "state_c=model.layers[6].output\n",
    "encoder_states = [state_h, state_c]\n",
    "#k=model.layers[1].output*model.input[0]\n",
    "k=model.input[0]*model.layers[1].input\n",
    "encoder_model = Model(model.layers[1].embeddings,model.input[0], encoder_states)\n",
    "decoder_embedding=model.layers[4].embeddings\n",
    "decoder_inputs =model.input[1]\n",
    "#decoder_outputs, state_h, state_c=model.layers[7].output \n",
    "\n",
    "\n",
    "decoder_state_input_h = Input(shape=( 400 ,))\n",
    "decoder_state_input_c = Input(shape=( 400 ,))\n",
    "decoder_states_inputs = [decoder_state_input_h, decoder_state_input_c]\n",
    "\n",
    "decoder_lstm=model.layers[7]\n",
    "\n",
    "decoder_outputs, state_h_dec, state_c_dec = decoder_lstm (model.layers[7].input[0]*model.input[1],initial_state=encoder_states )\n",
    " \n",
    "decoder_states = [state_h_dec, state_c_dec]\n",
    "\n",
    "\n",
    "\n",
    "decoder_dense=model.layers[8]\n",
    "decoder_outputs=decoder_dense(decoder_outputs)\n",
    "\n",
    "decoder_model = Model( [decoder_outputs] + decoder_states)"
   ]
  },
  {
   "cell_type": "code",
   "execution_count": 268,
   "metadata": {},
   "outputs": [
    {
     "data": {
      "text/plain": [
       "<tf.Tensor 'concatenate_6/concat:0' shape=(?, 400) dtype=float32>"
      ]
     },
     "execution_count": 268,
     "metadata": {},
     "output_type": "execute_result"
    }
   ],
   "source": [
    "model.layers[6].output"
   ]
  },
  {
   "cell_type": "code",
   "execution_count": 273,
   "metadata": {},
   "outputs": [
    {
     "data": {
      "text/plain": [
       "[<tf.Tensor 'input_97:0' shape=(?, ?) dtype=float32>]"
      ]
     },
     "execution_count": 273,
     "metadata": {},
     "output_type": "execute_result"
    }
   ],
   "source": [
    "[decoder_inputs]"
   ]
  },
  {
   "cell_type": "code",
   "execution_count": 10,
   "metadata": {
    "collapsed": true
   },
   "outputs": [],
   "source": [
    "\n",
    "def make_inference_models():\n",
    "    \n",
    "    encoder_model = Model(encoder_inputs, encoder_states)\n",
    "    decoder_embedding = Embedding( VOCAB_SIZE, 200 ,embeddings_initializer=Constant(embedding_matrix) ,mask_zero=True) (decoder_inputs)\n",
    "\n",
    "\n",
    "    decoder_state_input_h = Input(shape=( 400 ,))\n",
    "    decoder_state_input_c = Input(shape=( 400 ,))\n",
    " \n",
    "    decoder_states_inputs = [decoder_state_input_h, decoder_state_input_c]\n",
    "    \n",
    "    decoder_outputs, state_h, state_c = decoder_lstm(\n",
    "        decoder_embedding , initial_state=decoder_states_inputs)\n",
    "    decoder_states = [state_h, state_c]\n",
    "    decoder_outputs = decoder_dense(decoder_outputs)\n",
    "    decoder_model = Model(\n",
    "        [decoder_inputs] + decoder_states_inputs,\n",
    "        [decoder_outputs] + decoder_states)\n",
    "    \n",
    "    return encoder_model , decoder_model\n"
   ]
  },
  {
   "cell_type": "code",
   "execution_count": 14,
   "metadata": {
    "collapsed": true
   },
   "outputs": [],
   "source": [
    "def str_to_tokens( sentence : str ):\n",
    "    words = sentence.lower().split()\n",
    "    tokens_list = list()\n",
    "    for word in words:\n",
    "        tokens_list.append( tokenizer.word_index[ word ] ) \n",
    "    return preprocessing.sequence.pad_sequences( [tokens_list] , maxlen=maxlen_questions , padding='post')\n"
   ]
  },
  {
   "cell_type": "code",
   "execution_count": 12,
   "metadata": {
    "collapsed": true
   },
   "outputs": [],
   "source": [
    "enc_model , dec_model = make_inference_models()"
   ]
  },
  {
   "cell_type": "code",
   "execution_count": 15,
   "metadata": {},
   "outputs": [
    {
     "name": "stdout",
     "output_type": "stream",
     "text": [
      "Enter question : how long will it last\n",
      " i don't know it it end\n",
      "Enter question : who are you\n",
      " no no they are a this you you and it end\n",
      "Enter question : how long is the cord\n",
      " about about about 6 feet end\n",
      "Enter question : is the phone good\n",
      " no it is not you to use the phone end\n",
      "Enter question : does it have a flip\n",
      " no there no a remote end\n",
      "Enter question : is the screen big enough\n",
      " yes i can it at at the and it end\n",
      "Enter question : how long is it\n",
      " it it is the at at the at at at at end\n",
      "Enter question : is the electronics good\n",
      " yes i can it at at at at at at at at end\n",
      "Enter question : how long for charge\n",
      " the the and it was buy the picture end\n",
      "Enter question : is camera good\n",
      " yes it is and the film end\n"
     ]
    }
   ],
   "source": [
    "\n",
    "for _ in range(10):\n",
    "    states_values = enc_model.predict( str_to_tokens( input( 'Enter question : ' ) ) )\n",
    "    empty_target_seq = np.zeros( ( 1 , 1 ) )\n",
    "    empty_target_seq[0, 0] = tokenizer.word_index['start']\n",
    "    stop_condition = False\n",
    "    decoded_translation = ''\n",
    "    while not stop_condition :\n",
    "        dec_outputs , h , c = dec_model.predict([ empty_target_seq ] + states_values )\n",
    "        sampled_word_index = np.argmax( dec_outputs[0, -1, :] )\n",
    "        sampled_word = None\n",
    "        for word , index in tokenizer.word_index.items() :\n",
    "            if sampled_word_index == index :\n",
    "                decoded_translation += ' {}'.format( word )\n",
    "                sampled_word = word\n",
    "        \n",
    "        if sampled_word == 'end' or len(decoded_translation.split()) > maxlen_answers:\n",
    "            stop_condition = True\n",
    "            \n",
    "        empty_target_seq = np.zeros( ( 1 , 1 ) )  \n",
    "        empty_target_seq[ 0 , 0 ] = sampled_word_index\n",
    "        states_values = [ h , c ] \n",
    "\n",
    "    print( decoded_translation )\n"
   ]
  }
 ],
 "metadata": {
  "kernelspec": {
   "display_name": "Python 3",
   "language": "python",
   "name": "python3"
  },
  "language_info": {
   "codemirror_mode": {
    "name": "ipython",
    "version": 3
   },
   "file_extension": ".py",
   "mimetype": "text/x-python",
   "name": "python",
   "nbconvert_exporter": "python",
   "pygments_lexer": "ipython3",
   "version": "3.5.4"
  }
 },
 "nbformat": 4,
 "nbformat_minor": 1
}
